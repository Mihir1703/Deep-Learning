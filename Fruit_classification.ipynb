{
  "nbformat": 4,
  "nbformat_minor": 0,
  "metadata": {
    "colab": {
      "provenance": [],
      "authorship_tag": "ABX9TyO/hvVHPUw63tHaPtFxIt/0",
      "include_colab_link": true
    },
    "kernelspec": {
      "name": "python3",
      "display_name": "Python 3"
    },
    "language_info": {
      "name": "python"
    },
    "accelerator": "GPU",
    "gpuClass": "standard"
  },
  "cells": [
    {
      "cell_type": "markdown",
      "metadata": {
        "id": "view-in-github",
        "colab_type": "text"
      },
      "source": [
        "<a href=\"https://colab.research.google.com/github/Mihir1703/Deep-Learning/blob/master/Fruit_classification.ipynb\" target=\"_parent\"><img src=\"https://colab.research.google.com/assets/colab-badge.svg\" alt=\"Open In Colab\"/></a>"
      ]
    },
    {
      "cell_type": "code",
      "execution_count": 1,
      "metadata": {
        "colab": {
          "base_uri": "https://localhost:8080/",
          "height": 475
        },
        "id": "n7UYjV58pS0n",
        "outputId": "7bec9da8-482b-4cb9-eb0b-c6ae208a6ad5"
      },
      "outputs": [
        {
          "output_type": "display_data",
          "data": {
            "text/plain": [
              "<IPython.core.display.HTML object>"
            ],
            "text/html": [
              "\n",
              "     <input type=\"file\" id=\"files-5da77ce0-20e0-4a46-b01f-6c213c7624c2\" name=\"files[]\" multiple disabled\n",
              "        style=\"border:none\" />\n",
              "     <output id=\"result-5da77ce0-20e0-4a46-b01f-6c213c7624c2\">\n",
              "      Upload widget is only available when the cell has been executed in the\n",
              "      current browser session. Please rerun this cell to enable.\n",
              "      </output>\n",
              "      <script>// Copyright 2017 Google LLC\n",
              "//\n",
              "// Licensed under the Apache License, Version 2.0 (the \"License\");\n",
              "// you may not use this file except in compliance with the License.\n",
              "// You may obtain a copy of the License at\n",
              "//\n",
              "//      http://www.apache.org/licenses/LICENSE-2.0\n",
              "//\n",
              "// Unless required by applicable law or agreed to in writing, software\n",
              "// distributed under the License is distributed on an \"AS IS\" BASIS,\n",
              "// WITHOUT WARRANTIES OR CONDITIONS OF ANY KIND, either express or implied.\n",
              "// See the License for the specific language governing permissions and\n",
              "// limitations under the License.\n",
              "\n",
              "/**\n",
              " * @fileoverview Helpers for google.colab Python module.\n",
              " */\n",
              "(function(scope) {\n",
              "function span(text, styleAttributes = {}) {\n",
              "  const element = document.createElement('span');\n",
              "  element.textContent = text;\n",
              "  for (const key of Object.keys(styleAttributes)) {\n",
              "    element.style[key] = styleAttributes[key];\n",
              "  }\n",
              "  return element;\n",
              "}\n",
              "\n",
              "// Max number of bytes which will be uploaded at a time.\n",
              "const MAX_PAYLOAD_SIZE = 100 * 1024;\n",
              "\n",
              "function _uploadFiles(inputId, outputId) {\n",
              "  const steps = uploadFilesStep(inputId, outputId);\n",
              "  const outputElement = document.getElementById(outputId);\n",
              "  // Cache steps on the outputElement to make it available for the next call\n",
              "  // to uploadFilesContinue from Python.\n",
              "  outputElement.steps = steps;\n",
              "\n",
              "  return _uploadFilesContinue(outputId);\n",
              "}\n",
              "\n",
              "// This is roughly an async generator (not supported in the browser yet),\n",
              "// where there are multiple asynchronous steps and the Python side is going\n",
              "// to poll for completion of each step.\n",
              "// This uses a Promise to block the python side on completion of each step,\n",
              "// then passes the result of the previous step as the input to the next step.\n",
              "function _uploadFilesContinue(outputId) {\n",
              "  const outputElement = document.getElementById(outputId);\n",
              "  const steps = outputElement.steps;\n",
              "\n",
              "  const next = steps.next(outputElement.lastPromiseValue);\n",
              "  return Promise.resolve(next.value.promise).then((value) => {\n",
              "    // Cache the last promise value to make it available to the next\n",
              "    // step of the generator.\n",
              "    outputElement.lastPromiseValue = value;\n",
              "    return next.value.response;\n",
              "  });\n",
              "}\n",
              "\n",
              "/**\n",
              " * Generator function which is called between each async step of the upload\n",
              " * process.\n",
              " * @param {string} inputId Element ID of the input file picker element.\n",
              " * @param {string} outputId Element ID of the output display.\n",
              " * @return {!Iterable<!Object>} Iterable of next steps.\n",
              " */\n",
              "function* uploadFilesStep(inputId, outputId) {\n",
              "  const inputElement = document.getElementById(inputId);\n",
              "  inputElement.disabled = false;\n",
              "\n",
              "  const outputElement = document.getElementById(outputId);\n",
              "  outputElement.innerHTML = '';\n",
              "\n",
              "  const pickedPromise = new Promise((resolve) => {\n",
              "    inputElement.addEventListener('change', (e) => {\n",
              "      resolve(e.target.files);\n",
              "    });\n",
              "  });\n",
              "\n",
              "  const cancel = document.createElement('button');\n",
              "  inputElement.parentElement.appendChild(cancel);\n",
              "  cancel.textContent = 'Cancel upload';\n",
              "  const cancelPromise = new Promise((resolve) => {\n",
              "    cancel.onclick = () => {\n",
              "      resolve(null);\n",
              "    };\n",
              "  });\n",
              "\n",
              "  // Wait for the user to pick the files.\n",
              "  const files = yield {\n",
              "    promise: Promise.race([pickedPromise, cancelPromise]),\n",
              "    response: {\n",
              "      action: 'starting',\n",
              "    }\n",
              "  };\n",
              "\n",
              "  cancel.remove();\n",
              "\n",
              "  // Disable the input element since further picks are not allowed.\n",
              "  inputElement.disabled = true;\n",
              "\n",
              "  if (!files) {\n",
              "    return {\n",
              "      response: {\n",
              "        action: 'complete',\n",
              "      }\n",
              "    };\n",
              "  }\n",
              "\n",
              "  for (const file of files) {\n",
              "    const li = document.createElement('li');\n",
              "    li.append(span(file.name, {fontWeight: 'bold'}));\n",
              "    li.append(span(\n",
              "        `(${file.type || 'n/a'}) - ${file.size} bytes, ` +\n",
              "        `last modified: ${\n",
              "            file.lastModifiedDate ? file.lastModifiedDate.toLocaleDateString() :\n",
              "                                    'n/a'} - `));\n",
              "    const percent = span('0% done');\n",
              "    li.appendChild(percent);\n",
              "\n",
              "    outputElement.appendChild(li);\n",
              "\n",
              "    const fileDataPromise = new Promise((resolve) => {\n",
              "      const reader = new FileReader();\n",
              "      reader.onload = (e) => {\n",
              "        resolve(e.target.result);\n",
              "      };\n",
              "      reader.readAsArrayBuffer(file);\n",
              "    });\n",
              "    // Wait for the data to be ready.\n",
              "    let fileData = yield {\n",
              "      promise: fileDataPromise,\n",
              "      response: {\n",
              "        action: 'continue',\n",
              "      }\n",
              "    };\n",
              "\n",
              "    // Use a chunked sending to avoid message size limits. See b/62115660.\n",
              "    let position = 0;\n",
              "    do {\n",
              "      const length = Math.min(fileData.byteLength - position, MAX_PAYLOAD_SIZE);\n",
              "      const chunk = new Uint8Array(fileData, position, length);\n",
              "      position += length;\n",
              "\n",
              "      const base64 = btoa(String.fromCharCode.apply(null, chunk));\n",
              "      yield {\n",
              "        response: {\n",
              "          action: 'append',\n",
              "          file: file.name,\n",
              "          data: base64,\n",
              "        },\n",
              "      };\n",
              "\n",
              "      let percentDone = fileData.byteLength === 0 ?\n",
              "          100 :\n",
              "          Math.round((position / fileData.byteLength) * 100);\n",
              "      percent.textContent = `${percentDone}% done`;\n",
              "\n",
              "    } while (position < fileData.byteLength);\n",
              "  }\n",
              "\n",
              "  // All done.\n",
              "  yield {\n",
              "    response: {\n",
              "      action: 'complete',\n",
              "    }\n",
              "  };\n",
              "}\n",
              "\n",
              "scope.google = scope.google || {};\n",
              "scope.google.colab = scope.google.colab || {};\n",
              "scope.google.colab._files = {\n",
              "  _uploadFiles,\n",
              "  _uploadFilesContinue,\n",
              "};\n",
              "})(self);\n",
              "</script> "
            ]
          },
          "metadata": {}
        },
        {
          "output_type": "stream",
          "name": "stdout",
          "text": [
            "Saving kaggle.json to kaggle.json\n",
            "ref                                                             title                                           size  lastUpdated          downloadCount  voteCount  usabilityRating  \n",
            "--------------------------------------------------------------  ---------------------------------------------  -----  -------------------  -------------  ---------  ---------------  \n",
            "meirnizri/covid19-dataset                                       COVID-19 Dataset                                 5MB  2022-11-13 15:47:17          14268        409  1.0              \n",
            "thedevastator/analyzing-credit-card-spending-habits-in-india    Credit Card Spending Habits in India           319KB  2022-12-14 07:30:37           1195         48  1.0              \n",
            "michals22/coffee-dataset                                        Coffee dataset                                  24KB  2022-12-15 20:02:12           3351         76  1.0              \n",
            "thedevastator/unlock-profits-with-e-commerce-sales-data         E-Commerce Sales Dataset                         6MB  2022-12-03 09:27:17           2583         63  1.0              \n",
            "thedevastator/jobs-dataset-from-glassdoor                       Salary Prediction                                3MB  2022-11-16 13:52:31           8074        178  1.0              \n",
            "die9origephit/fifa-world-cup-2022-complete-dataset              Fifa World Cup 2022: Complete Dataset            7KB  2022-12-18 22:51:11           2826        105  1.0              \n",
            "mattop/highest-grossing-mobile-games                            Highest Grossing Mobile Games                    3KB  2022-12-19 15:20:22            666         30  1.0              \n",
            "thedevastator/uncover-global-trends-in-mental-health-disorder   Global Trends in Mental Health Disorder          1MB  2022-12-14 05:30:38            936         31  1.0              \n",
            "rajkumarpandey02/fifa-world-cup-attendance-19302022             FIFA World Cup Attendance 1930-2022              5KB  2022-12-19 10:04:26            905         24  1.0              \n",
            "devrimtuner/number-of-road-motor-vehicles-turkey                Number of road motor vehicles 🇹🇷                 3KB  2022-12-25 13:04:17            270         23  0.9411765        \n",
            "thedevastator/revealing-insights-from-youtube-video-and-channe  YouTube Videos and Channels Metadata            82MB  2022-12-14 02:48:24            640         34  1.0              \n",
            "thedevastator/uncovering-insights-to-college-majors-and-their   College Majors and their Graduates              39KB  2022-12-06 16:06:52           1370         41  1.0              \n",
            "mvieira101/global-cost-of-living                                Global Cost of Living                            1MB  2022-12-03 16:37:53           3816         78  0.9705882        \n",
            "anashamoutni/students-employability-dataset                     Students' Employability Dataset - Philippines   97KB  2022-12-18 15:51:39            794         30  0.88235295       \n",
            "swaptr/fifa-world-cup-2022-statistics                           FIFA World Cup 2022 Team Data                   15KB  2022-12-19 00:29:15           2835         64  0.9705882        \n",
            "thedevastator/the-ultimate-netflix-tv-shows-and-movies-dataset  Netflix TV Shows and Movies (2022 Updated)       2MB  2022-11-27 20:41:41           2776         51  1.0              \n",
            "whenamancodes/predict-diabities                                 Predict Diabetes                                 9KB  2022-11-09 12:18:49           8435        134  1.0              \n",
            "kulturehire/understanding-career-aspirations-of-genz            Understanding Career Aspirations of GenZ         8KB  2022-12-21 13:44:32            345         24  0.9117647        \n",
            "thedevastator/uncovering-wage-disparities-in-pennsylvania-s-hi  Higher Education Wages                         223KB  2022-12-04 15:42:36           1389         46  1.0              \n",
            "laibaanwer/superstore-sales-dataset                             SuperStore Sales Dataset                         2MB  2022-12-07 08:53:32           1726         40  1.0              \n"
          ]
        }
      ],
      "source": [
        "!pip install -q kaggle\n",
        "\n",
        "from google.colab import files\n",
        "files.upload()\n",
        "\n",
        "!mkdir ~/.kaggle\n",
        "!cp kaggle.json ~/.kaggle/\n",
        "!chmod 600 ~/.kaggle/kaggle.json\n",
        "!kaggle datasets list"
      ]
    },
    {
      "cell_type": "code",
      "source": [
        "!kaggle datasets download -d moltean/fruits"
      ],
      "metadata": {
        "colab": {
          "base_uri": "https://localhost:8080/"
        },
        "id": "mfq2Ysvls16m",
        "outputId": "b55d4cb5-1916-4fb3-f0ab-98264782a40d"
      },
      "execution_count": 2,
      "outputs": [
        {
          "output_type": "stream",
          "name": "stdout",
          "text": [
            "Downloading fruits.zip to /content\n",
            "100% 1.28G/1.28G [01:03<00:00, 22.3MB/s]\n",
            "100% 1.28G/1.28G [01:03<00:00, 21.7MB/s]\n"
          ]
        }
      ]
    },
    {
      "cell_type": "code",
      "source": [
        "!mkdir datasets\n",
        "!unzip -q fruits.zip -d datasets"
      ],
      "metadata": {
        "id": "WYAHM8D5s-V7"
      },
      "execution_count": 3,
      "outputs": []
    },
    {
      "cell_type": "code",
      "source": [
        "import pandas as pd\n",
        "import numpy as np\n",
        "import matplotlib.pyplot as plt\n",
        "import os\n",
        "import json\n",
        "\n",
        "import tensorflow as tf\n",
        "import tensorflow_hub as hub\n",
        "from tensorflow import keras\n",
        "from keras.layers import Dense\n",
        "from keras.models import Sequential\n",
        "import keras.utils as image\n",
        "from keras.optimizers import Adam\n",
        "from keras.preprocessing.image import ImageDataGenerator"
      ],
      "metadata": {
        "id": "4WW8PLc3tZl_"
      },
      "execution_count": 4,
      "outputs": []
    },
    {
      "cell_type": "code",
      "source": [
        "tf.test.gpu_device_name()"
      ],
      "metadata": {
        "colab": {
          "base_uri": "https://localhost:8080/",
          "height": 36
        },
        "id": "ItefcL9Jwkc-",
        "outputId": "cd6bedeb-9533-4d81-b516-353e4bc3a02c"
      },
      "execution_count": 5,
      "outputs": [
        {
          "output_type": "execute_result",
          "data": {
            "text/plain": [
              "'/device:GPU:0'"
            ],
            "application/vnd.google.colaboratory.intrinsic+json": {
              "type": "string"
            }
          },
          "metadata": {},
          "execution_count": 5
        }
      ]
    },
    {
      "cell_type": "code",
      "source": [
        "classes = os.listdir('datasets/fruits-360_dataset/fruits-360/Training')\n",
        "classes[63],len(classes)"
      ],
      "metadata": {
        "colab": {
          "base_uri": "https://localhost:8080/"
        },
        "id": "1p9dAA09uHGT",
        "outputId": "7eb11a72-cba8-4b5d-afec-770a47a4b779"
      },
      "execution_count": 6,
      "outputs": [
        {
          "output_type": "execute_result",
          "data": {
            "text/plain": [
              "('Chestnut', 131)"
            ]
          },
          "metadata": {},
          "execution_count": 6
        }
      ]
    },
    {
      "cell_type": "code",
      "source": [
        "train_batch=ImageDataGenerator().flow_from_directory(directory='datasets/fruits-360_dataset/fruits-360/Training',target_size=(229,229),classes=classes)"
      ],
      "metadata": {
        "colab": {
          "base_uri": "https://localhost:8080/"
        },
        "id": "UnvhKdZIuXLH",
        "outputId": "fdccf2dd-8473-4964-fd14-be5d5c11eaa3"
      },
      "execution_count": 7,
      "outputs": [
        {
          "output_type": "stream",
          "name": "stdout",
          "text": [
            "Found 67692 images belonging to 131 classes.\n"
          ]
        }
      ]
    },
    {
      "cell_type": "code",
      "source": [
        "label_dict = dict((v,k) for k,v in train_batch.class_indices.items())\n",
        "label_code = train_batch.class_indices\n",
        "label_dict[45]"
      ],
      "metadata": {
        "colab": {
          "base_uri": "https://localhost:8080/",
          "height": 36
        },
        "id": "1hlQZv5hu0U_",
        "outputId": "265b07d2-e8e5-4659-ca81-4b76beadad61"
      },
      "execution_count": 8,
      "outputs": [
        {
          "output_type": "execute_result",
          "data": {
            "text/plain": [
              "'Cherry Wax Black'"
            ],
            "application/vnd.google.colaboratory.intrinsic+json": {
              "type": "string"
            }
          },
          "metadata": {},
          "execution_count": 8
        }
      ]
    },
    {
      "cell_type": "code",
      "source": [
        "model = Sequential([\n",
        "    hub.KerasLayer(\"https://tfhub.dev/google/imagenet/inception_v3/classification/5\",trainable=False),\n",
        "    Dense(units=len(classes),activation='softmax')\n",
        "])\n",
        "model.compile(loss='categorical_crossentropy', optimizer=Adam(learning_rate=0.001, decay=0.001 / (5 * 0.5)) , metrics=['accuracy'])\n",
        "model.build([None, 299, 299, 3])"
      ],
      "metadata": {
        "id": "qh6UIr39vUoJ"
      },
      "execution_count": 9,
      "outputs": []
    },
    {
      "cell_type": "code",
      "source": [
        "if os.path.isfile('fruit.h5') is False:\n",
        "    with tf.device(\"/device:GPU:0\"):\n",
        "        model.fit(train_batch,epochs=5)\n",
        "    model.save('fruit.h5')\n",
        "    with open(\"num_to_label.json\", \"w+\") as outfile:\n",
        "        json.dump(label_dict, outfile)\n",
        "    with open(\"label_to_num.json\", \"w+\") as outfile:\n",
        "        json.dump(label_code, outfile)"
      ],
      "metadata": {
        "colab": {
          "base_uri": "https://localhost:8080/"
        },
        "id": "qF8Eqdy3v9M-",
        "outputId": "0d5b5bb1-f789-4aed-87ae-124fad1f9176"
      },
      "execution_count": 10,
      "outputs": [
        {
          "output_type": "stream",
          "name": "stdout",
          "text": [
            "Epoch 1/5\n",
            "2116/2116 [==============================] - 178s 78ms/step - loss: 22.5802 - accuracy: 0.6695\n",
            "Epoch 2/5\n",
            "2116/2116 [==============================] - 162s 77ms/step - loss: 4.9874 - accuracy: 0.8771\n",
            "Epoch 3/5\n",
            "2116/2116 [==============================] - 161s 76ms/step - loss: 2.6347 - accuracy: 0.9236\n",
            "Epoch 4/5\n",
            "2116/2116 [==============================] - 162s 76ms/step - loss: 1.6326 - accuracy: 0.9464\n",
            "Epoch 5/5\n",
            "2116/2116 [==============================] - 161s 76ms/step - loss: 1.0809 - accuracy: 0.9615\n"
          ]
        }
      ]
    },
    {
      "cell_type": "code",
      "source": [
        "load_model = keras.models.load_model(\n",
        "    'fruit.h5', custom_objects={'KerasLayer':hub.KerasLayer}, compile=True, options=None\n",
        ")"
      ],
      "metadata": {
        "id": "XIWGemZcztMp"
      },
      "execution_count": 11,
      "outputs": []
    },
    {
      "cell_type": "code",
      "source": [
        "with open(\"num_to_label.json\") as outfile:\n",
        "    label_dict = json.loads(outfile.read())\n",
        "with open(\"label_to_num.json\") as outfile:\n",
        "    label_code = json.loads(outfile.read())\n",
        "label_dict,label_code"
      ],
      "metadata": {
        "colab": {
          "base_uri": "https://localhost:8080/"
        },
        "id": "x8ketieQHhwn",
        "outputId": "976f2ffd-0444-4969-adf6-7924c0c2eb76"
      },
      "execution_count": 14,
      "outputs": [
        {
          "output_type": "execute_result",
          "data": {
            "text/plain": [
              "({'0': 'Pineapple',\n",
              "  '1': 'Tomato not Ripened',\n",
              "  '2': 'Tomato Maroon',\n",
              "  '3': 'Mulberry',\n",
              "  '4': 'Apple Golden 2',\n",
              "  '5': 'Pear',\n",
              "  '6': 'Onion Red',\n",
              "  '7': 'Nectarine Flat',\n",
              "  '8': 'Huckleberry',\n",
              "  '9': 'Apple Golden 1',\n",
              "  '10': 'Pear Abate',\n",
              "  '11': 'Plum 2',\n",
              "  '12': 'Lychee',\n",
              "  '13': 'Pear Forelle',\n",
              "  '14': 'Avocado',\n",
              "  '15': 'Mandarine',\n",
              "  '16': 'Pepper Orange',\n",
              "  '17': 'Hazelnut',\n",
              "  '18': 'Tomato 4',\n",
              "  '19': 'Cherry 2',\n",
              "  '20': 'Passion Fruit',\n",
              "  '21': 'Apple Red Delicious',\n",
              "  '22': 'Nut Forest',\n",
              "  '23': 'Potato White',\n",
              "  '24': 'Blueberry',\n",
              "  '25': 'Raspberry',\n",
              "  '26': 'Dates',\n",
              "  '27': 'Tangelo',\n",
              "  '28': 'Fig',\n",
              "  '29': 'Watermelon',\n",
              "  '30': 'Cantaloupe 1',\n",
              "  '31': 'Kiwi',\n",
              "  '32': 'Potato Red Washed',\n",
              "  '33': 'Apple Red 2',\n",
              "  '34': 'Onion White',\n",
              "  '35': 'Eggplant',\n",
              "  '36': 'Cherry Rainier',\n",
              "  '37': 'Papaya',\n",
              "  '38': 'Apple Braeburn',\n",
              "  '39': 'Ginger Root',\n",
              "  '40': 'Mango',\n",
              "  '41': 'Nut Pecan',\n",
              "  '42': 'Pomelo Sweetie',\n",
              "  '43': 'Pepper Red',\n",
              "  '44': 'Pear Kaiser',\n",
              "  '45': 'Cherry Wax Black',\n",
              "  '46': 'Walnut',\n",
              "  '47': 'Pear Williams',\n",
              "  '48': 'Rambutan',\n",
              "  '49': 'Cherry Wax Yellow',\n",
              "  '50': 'Lemon',\n",
              "  '51': 'Cherry Wax Red',\n",
              "  '52': 'Peach Flat',\n",
              "  '53': 'Physalis with Husk',\n",
              "  '54': 'Mangostan',\n",
              "  '55': 'Guava',\n",
              "  '56': 'Apple Granny Smith',\n",
              "  '57': 'Grapefruit White',\n",
              "  '58': 'Carambula',\n",
              "  '59': 'Kumquats',\n",
              "  '60': 'Apricot',\n",
              "  '61': 'Cucumber Ripe',\n",
              "  '62': 'Corn',\n",
              "  '63': 'Chestnut',\n",
              "  '64': 'Kaki',\n",
              "  '65': 'Maracuja',\n",
              "  '66': 'Apple Crimson Snow',\n",
              "  '67': 'Pear 2',\n",
              "  '68': 'Cherry 1',\n",
              "  '69': 'Plum',\n",
              "  '70': 'Melon Piel de Sapo',\n",
              "  '71': 'Limes',\n",
              "  '72': 'Cactus fruit',\n",
              "  '73': 'Cucumber Ripe 2',\n",
              "  '74': 'Tomato Yellow',\n",
              "  '75': 'Peach',\n",
              "  '76': 'Potato Red',\n",
              "  '77': 'Pear Stone',\n",
              "  '78': 'Apple Red Yellow 2',\n",
              "  '79': 'Tomato Heart',\n",
              "  '80': 'Redcurrant',\n",
              "  '81': 'Pepino',\n",
              "  '82': 'Tamarillo',\n",
              "  '83': 'Grape White',\n",
              "  '84': 'Lemon Meyer',\n",
              "  '85': 'Strawberry',\n",
              "  '86': 'Grapefruit Pink',\n",
              "  '87': 'Granadilla',\n",
              "  '88': 'Salak',\n",
              "  '89': 'Peach 2',\n",
              "  '90': 'Grape White 4',\n",
              "  '91': 'Apple Red Yellow 1',\n",
              "  '92': 'Tomato Cherry Red',\n",
              "  '93': 'Strawberry Wedge',\n",
              "  '94': 'Potato Sweet',\n",
              "  '95': 'Grape Pink',\n",
              "  '96': 'Pear Monster',\n",
              "  '97': 'Pomegranate',\n",
              "  '98': 'Cocos',\n",
              "  '99': 'Mango Red',\n",
              "  '100': 'Grape White 2',\n",
              "  '101': 'Corn Husk',\n",
              "  '102': 'Tomato 3',\n",
              "  '103': 'Pepper Green',\n",
              "  '104': 'Clementine',\n",
              "  '105': 'Cantaloupe 2',\n",
              "  '106': 'Nectarine',\n",
              "  '107': 'Plum 3',\n",
              "  '108': 'Kohlrabi',\n",
              "  '109': 'Apple Pink Lady',\n",
              "  '110': 'Apple Red 1',\n",
              "  '111': 'Banana',\n",
              "  '112': 'Tomato 2',\n",
              "  '113': 'Pear Red',\n",
              "  '114': 'Avocado ripe',\n",
              "  '115': 'Quince',\n",
              "  '116': 'Tomato 1',\n",
              "  '117': 'Orange',\n",
              "  '118': 'Pepper Yellow',\n",
              "  '119': 'Banana Red',\n",
              "  '120': 'Beetroot',\n",
              "  '121': 'Cauliflower',\n",
              "  '122': 'Grape White 3',\n",
              "  '123': 'Pineapple Mini',\n",
              "  '124': 'Apple Golden 3',\n",
              "  '125': 'Apple Red 3',\n",
              "  '126': 'Physalis',\n",
              "  '127': 'Grape Blue',\n",
              "  '128': 'Onion Red Peeled',\n",
              "  '129': 'Banana Lady Finger',\n",
              "  '130': 'Pitahaya Red'},\n",
              " {'Pineapple': 0,\n",
              "  'Tomato not Ripened': 1,\n",
              "  'Tomato Maroon': 2,\n",
              "  'Mulberry': 3,\n",
              "  'Apple Golden 2': 4,\n",
              "  'Pear': 5,\n",
              "  'Onion Red': 6,\n",
              "  'Nectarine Flat': 7,\n",
              "  'Huckleberry': 8,\n",
              "  'Apple Golden 1': 9,\n",
              "  'Pear Abate': 10,\n",
              "  'Plum 2': 11,\n",
              "  'Lychee': 12,\n",
              "  'Pear Forelle': 13,\n",
              "  'Avocado': 14,\n",
              "  'Mandarine': 15,\n",
              "  'Pepper Orange': 16,\n",
              "  'Hazelnut': 17,\n",
              "  'Tomato 4': 18,\n",
              "  'Cherry 2': 19,\n",
              "  'Passion Fruit': 20,\n",
              "  'Apple Red Delicious': 21,\n",
              "  'Nut Forest': 22,\n",
              "  'Potato White': 23,\n",
              "  'Blueberry': 24,\n",
              "  'Raspberry': 25,\n",
              "  'Dates': 26,\n",
              "  'Tangelo': 27,\n",
              "  'Fig': 28,\n",
              "  'Watermelon': 29,\n",
              "  'Cantaloupe 1': 30,\n",
              "  'Kiwi': 31,\n",
              "  'Potato Red Washed': 32,\n",
              "  'Apple Red 2': 33,\n",
              "  'Onion White': 34,\n",
              "  'Eggplant': 35,\n",
              "  'Cherry Rainier': 36,\n",
              "  'Papaya': 37,\n",
              "  'Apple Braeburn': 38,\n",
              "  'Ginger Root': 39,\n",
              "  'Mango': 40,\n",
              "  'Nut Pecan': 41,\n",
              "  'Pomelo Sweetie': 42,\n",
              "  'Pepper Red': 43,\n",
              "  'Pear Kaiser': 44,\n",
              "  'Cherry Wax Black': 45,\n",
              "  'Walnut': 46,\n",
              "  'Pear Williams': 47,\n",
              "  'Rambutan': 48,\n",
              "  'Cherry Wax Yellow': 49,\n",
              "  'Lemon': 50,\n",
              "  'Cherry Wax Red': 51,\n",
              "  'Peach Flat': 52,\n",
              "  'Physalis with Husk': 53,\n",
              "  'Mangostan': 54,\n",
              "  'Guava': 55,\n",
              "  'Apple Granny Smith': 56,\n",
              "  'Grapefruit White': 57,\n",
              "  'Carambula': 58,\n",
              "  'Kumquats': 59,\n",
              "  'Apricot': 60,\n",
              "  'Cucumber Ripe': 61,\n",
              "  'Corn': 62,\n",
              "  'Chestnut': 63,\n",
              "  'Kaki': 64,\n",
              "  'Maracuja': 65,\n",
              "  'Apple Crimson Snow': 66,\n",
              "  'Pear 2': 67,\n",
              "  'Cherry 1': 68,\n",
              "  'Plum': 69,\n",
              "  'Melon Piel de Sapo': 70,\n",
              "  'Limes': 71,\n",
              "  'Cactus fruit': 72,\n",
              "  'Cucumber Ripe 2': 73,\n",
              "  'Tomato Yellow': 74,\n",
              "  'Peach': 75,\n",
              "  'Potato Red': 76,\n",
              "  'Pear Stone': 77,\n",
              "  'Apple Red Yellow 2': 78,\n",
              "  'Tomato Heart': 79,\n",
              "  'Redcurrant': 80,\n",
              "  'Pepino': 81,\n",
              "  'Tamarillo': 82,\n",
              "  'Grape White': 83,\n",
              "  'Lemon Meyer': 84,\n",
              "  'Strawberry': 85,\n",
              "  'Grapefruit Pink': 86,\n",
              "  'Granadilla': 87,\n",
              "  'Salak': 88,\n",
              "  'Peach 2': 89,\n",
              "  'Grape White 4': 90,\n",
              "  'Apple Red Yellow 1': 91,\n",
              "  'Tomato Cherry Red': 92,\n",
              "  'Strawberry Wedge': 93,\n",
              "  'Potato Sweet': 94,\n",
              "  'Grape Pink': 95,\n",
              "  'Pear Monster': 96,\n",
              "  'Pomegranate': 97,\n",
              "  'Cocos': 98,\n",
              "  'Mango Red': 99,\n",
              "  'Grape White 2': 100,\n",
              "  'Corn Husk': 101,\n",
              "  'Tomato 3': 102,\n",
              "  'Pepper Green': 103,\n",
              "  'Clementine': 104,\n",
              "  'Cantaloupe 2': 105,\n",
              "  'Nectarine': 106,\n",
              "  'Plum 3': 107,\n",
              "  'Kohlrabi': 108,\n",
              "  'Apple Pink Lady': 109,\n",
              "  'Apple Red 1': 110,\n",
              "  'Banana': 111,\n",
              "  'Tomato 2': 112,\n",
              "  'Pear Red': 113,\n",
              "  'Avocado ripe': 114,\n",
              "  'Quince': 115,\n",
              "  'Tomato 1': 116,\n",
              "  'Orange': 117,\n",
              "  'Pepper Yellow': 118,\n",
              "  'Banana Red': 119,\n",
              "  'Beetroot': 120,\n",
              "  'Cauliflower': 121,\n",
              "  'Grape White 3': 122,\n",
              "  'Pineapple Mini': 123,\n",
              "  'Apple Golden 3': 124,\n",
              "  'Apple Red 3': 125,\n",
              "  'Physalis': 126,\n",
              "  'Grape Blue': 127,\n",
              "  'Onion Red Peeled': 128,\n",
              "  'Banana Lady Finger': 129,\n",
              "  'Pitahaya Red': 130})"
            ]
          },
          "metadata": {},
          "execution_count": 14
        }
      ]
    },
    {
      "cell_type": "code",
      "source": [
        "import keras.utils as image\n",
        "\n",
        "test_path = 'datasets/fruits-360_dataset/fruits-360/Test/'\n",
        "orignal = []\n",
        "predict = []\n",
        "\n",
        "print(label_code,label_dict)\n",
        "\n",
        "def process_img(file):\n",
        "    img = image.load_img(file,target_size=(229,229))\n",
        "    return np.array(img)\n",
        "\n",
        "\n",
        "for i in os.listdir(test_path):\n",
        "    batch = []\n",
        "    for j in os.listdir(test_path+i):\n",
        "        path = test_path+i+'/'+j\n",
        "        img = process_img(path)\n",
        "        batch.append(img)\n",
        "        orignal.append(label_code[i])\n",
        "    with tf.device(\"/device:GPU:0\"):\n",
        "        pred = np.argmax(model.predict(np.array(batch)),axis=1)\n",
        "    predict = predict + pred.tolist()"
      ],
      "metadata": {
        "colab": {
          "base_uri": "https://localhost:8080/"
        },
        "id": "Oi7PUJpN7c4w",
        "outputId": "f77bd3e8-17ca-4836-8673-06b2809404d6"
      },
      "execution_count": 18,
      "outputs": [
        {
          "output_type": "stream",
          "name": "stdout",
          "text": [
            "{'Pineapple': 0, 'Tomato not Ripened': 1, 'Tomato Maroon': 2, 'Mulberry': 3, 'Apple Golden 2': 4, 'Pear': 5, 'Onion Red': 6, 'Nectarine Flat': 7, 'Huckleberry': 8, 'Apple Golden 1': 9, 'Pear Abate': 10, 'Plum 2': 11, 'Lychee': 12, 'Pear Forelle': 13, 'Avocado': 14, 'Mandarine': 15, 'Pepper Orange': 16, 'Hazelnut': 17, 'Tomato 4': 18, 'Cherry 2': 19, 'Passion Fruit': 20, 'Apple Red Delicious': 21, 'Nut Forest': 22, 'Potato White': 23, 'Blueberry': 24, 'Raspberry': 25, 'Dates': 26, 'Tangelo': 27, 'Fig': 28, 'Watermelon': 29, 'Cantaloupe 1': 30, 'Kiwi': 31, 'Potato Red Washed': 32, 'Apple Red 2': 33, 'Onion White': 34, 'Eggplant': 35, 'Cherry Rainier': 36, 'Papaya': 37, 'Apple Braeburn': 38, 'Ginger Root': 39, 'Mango': 40, 'Nut Pecan': 41, 'Pomelo Sweetie': 42, 'Pepper Red': 43, 'Pear Kaiser': 44, 'Cherry Wax Black': 45, 'Walnut': 46, 'Pear Williams': 47, 'Rambutan': 48, 'Cherry Wax Yellow': 49, 'Lemon': 50, 'Cherry Wax Red': 51, 'Peach Flat': 52, 'Physalis with Husk': 53, 'Mangostan': 54, 'Guava': 55, 'Apple Granny Smith': 56, 'Grapefruit White': 57, 'Carambula': 58, 'Kumquats': 59, 'Apricot': 60, 'Cucumber Ripe': 61, 'Corn': 62, 'Chestnut': 63, 'Kaki': 64, 'Maracuja': 65, 'Apple Crimson Snow': 66, 'Pear 2': 67, 'Cherry 1': 68, 'Plum': 69, 'Melon Piel de Sapo': 70, 'Limes': 71, 'Cactus fruit': 72, 'Cucumber Ripe 2': 73, 'Tomato Yellow': 74, 'Peach': 75, 'Potato Red': 76, 'Pear Stone': 77, 'Apple Red Yellow 2': 78, 'Tomato Heart': 79, 'Redcurrant': 80, 'Pepino': 81, 'Tamarillo': 82, 'Grape White': 83, 'Lemon Meyer': 84, 'Strawberry': 85, 'Grapefruit Pink': 86, 'Granadilla': 87, 'Salak': 88, 'Peach 2': 89, 'Grape White 4': 90, 'Apple Red Yellow 1': 91, 'Tomato Cherry Red': 92, 'Strawberry Wedge': 93, 'Potato Sweet': 94, 'Grape Pink': 95, 'Pear Monster': 96, 'Pomegranate': 97, 'Cocos': 98, 'Mango Red': 99, 'Grape White 2': 100, 'Corn Husk': 101, 'Tomato 3': 102, 'Pepper Green': 103, 'Clementine': 104, 'Cantaloupe 2': 105, 'Nectarine': 106, 'Plum 3': 107, 'Kohlrabi': 108, 'Apple Pink Lady': 109, 'Apple Red 1': 110, 'Banana': 111, 'Tomato 2': 112, 'Pear Red': 113, 'Avocado ripe': 114, 'Quince': 115, 'Tomato 1': 116, 'Orange': 117, 'Pepper Yellow': 118, 'Banana Red': 119, 'Beetroot': 120, 'Cauliflower': 121, 'Grape White 3': 122, 'Pineapple Mini': 123, 'Apple Golden 3': 124, 'Apple Red 3': 125, 'Physalis': 126, 'Grape Blue': 127, 'Onion Red Peeled': 128, 'Banana Lady Finger': 129, 'Pitahaya Red': 130} {'0': 'Pineapple', '1': 'Tomato not Ripened', '2': 'Tomato Maroon', '3': 'Mulberry', '4': 'Apple Golden 2', '5': 'Pear', '6': 'Onion Red', '7': 'Nectarine Flat', '8': 'Huckleberry', '9': 'Apple Golden 1', '10': 'Pear Abate', '11': 'Plum 2', '12': 'Lychee', '13': 'Pear Forelle', '14': 'Avocado', '15': 'Mandarine', '16': 'Pepper Orange', '17': 'Hazelnut', '18': 'Tomato 4', '19': 'Cherry 2', '20': 'Passion Fruit', '21': 'Apple Red Delicious', '22': 'Nut Forest', '23': 'Potato White', '24': 'Blueberry', '25': 'Raspberry', '26': 'Dates', '27': 'Tangelo', '28': 'Fig', '29': 'Watermelon', '30': 'Cantaloupe 1', '31': 'Kiwi', '32': 'Potato Red Washed', '33': 'Apple Red 2', '34': 'Onion White', '35': 'Eggplant', '36': 'Cherry Rainier', '37': 'Papaya', '38': 'Apple Braeburn', '39': 'Ginger Root', '40': 'Mango', '41': 'Nut Pecan', '42': 'Pomelo Sweetie', '43': 'Pepper Red', '44': 'Pear Kaiser', '45': 'Cherry Wax Black', '46': 'Walnut', '47': 'Pear Williams', '48': 'Rambutan', '49': 'Cherry Wax Yellow', '50': 'Lemon', '51': 'Cherry Wax Red', '52': 'Peach Flat', '53': 'Physalis with Husk', '54': 'Mangostan', '55': 'Guava', '56': 'Apple Granny Smith', '57': 'Grapefruit White', '58': 'Carambula', '59': 'Kumquats', '60': 'Apricot', '61': 'Cucumber Ripe', '62': 'Corn', '63': 'Chestnut', '64': 'Kaki', '65': 'Maracuja', '66': 'Apple Crimson Snow', '67': 'Pear 2', '68': 'Cherry 1', '69': 'Plum', '70': 'Melon Piel de Sapo', '71': 'Limes', '72': 'Cactus fruit', '73': 'Cucumber Ripe 2', '74': 'Tomato Yellow', '75': 'Peach', '76': 'Potato Red', '77': 'Pear Stone', '78': 'Apple Red Yellow 2', '79': 'Tomato Heart', '80': 'Redcurrant', '81': 'Pepino', '82': 'Tamarillo', '83': 'Grape White', '84': 'Lemon Meyer', '85': 'Strawberry', '86': 'Grapefruit Pink', '87': 'Granadilla', '88': 'Salak', '89': 'Peach 2', '90': 'Grape White 4', '91': 'Apple Red Yellow 1', '92': 'Tomato Cherry Red', '93': 'Strawberry Wedge', '94': 'Potato Sweet', '95': 'Grape Pink', '96': 'Pear Monster', '97': 'Pomegranate', '98': 'Cocos', '99': 'Mango Red', '100': 'Grape White 2', '101': 'Corn Husk', '102': 'Tomato 3', '103': 'Pepper Green', '104': 'Clementine', '105': 'Cantaloupe 2', '106': 'Nectarine', '107': 'Plum 3', '108': 'Kohlrabi', '109': 'Apple Pink Lady', '110': 'Apple Red 1', '111': 'Banana', '112': 'Tomato 2', '113': 'Pear Red', '114': 'Avocado ripe', '115': 'Quince', '116': 'Tomato 1', '117': 'Orange', '118': 'Pepper Yellow', '119': 'Banana Red', '120': 'Beetroot', '121': 'Cauliflower', '122': 'Grape White 3', '123': 'Pineapple Mini', '124': 'Apple Golden 3', '125': 'Apple Red 3', '126': 'Physalis', '127': 'Grape Blue', '128': 'Onion Red Peeled', '129': 'Banana Lady Finger', '130': 'Pitahaya Red'}\n",
            "6/6 [==============================] - 0s 85ms/step\n",
            "5/5 [==============================] - 0s 66ms/step\n",
            "4/4 [==============================] - 0s 66ms/step\n",
            "6/6 [==============================] - 0s 66ms/step\n",
            "6/6 [==============================] - 0s 67ms/step\n",
            "6/6 [==============================] - 0s 67ms/step\n",
            "5/5 [==============================] - 1s 343ms/step\n",
            "5/5 [==============================] - 0s 67ms/step\n",
            "6/6 [==============================] - 0s 67ms/step\n",
            "5/5 [==============================] - 0s 66ms/step\n",
            "6/6 [==============================] - 0s 66ms/step\n",
            "5/5 [==============================] - 1s 302ms/step\n",
            "6/6 [==============================] - 0s 66ms/step\n",
            "8/8 [==============================] - 1s 192ms/step\n",
            "5/5 [==============================] - 1s 306ms/step\n",
            "6/6 [==============================] - 0s 66ms/step\n",
            "8/8 [==============================] - 0s 67ms/step\n",
            "5/5 [==============================] - 1s 366ms/step\n",
            "5/5 [==============================] - 0s 66ms/step\n",
            "8/8 [==============================] - 0s 66ms/step\n",
            "6/6 [==============================] - 0s 66ms/step\n",
            "6/6 [==============================] - 0s 66ms/step\n",
            "7/7 [==============================] - 2s 260ms/step\n",
            "5/5 [==============================] - 0s 66ms/step\n",
            "5/5 [==============================] - 0s 65ms/step\n",
            "6/6 [==============================] - 0s 65ms/step\n",
            "6/6 [==============================] - 0s 65ms/step\n",
            "6/6 [==============================] - 0s 65ms/step\n",
            "8/8 [==============================] - 0s 65ms/step\n",
            "5/5 [==============================] - 0s 65ms/step\n",
            "6/6 [==============================] - 0s 74ms/step\n",
            "5/5 [==============================] - 2s 430ms/step\n",
            "5/5 [==============================] - 1s 337ms/step\n",
            "6/6 [==============================] - 0s 65ms/step\n",
            "5/5 [==============================] - 1s 315ms/step\n",
            "5/5 [==============================] - 0s 64ms/step\n",
            "8/8 [==============================] - 0s 65ms/step\n",
            "6/6 [==============================] - 0s 64ms/step\n",
            "6/6 [==============================] - 0s 64ms/step\n",
            "4/4 [==============================] - 1s 310ms/step\n",
            "6/6 [==============================] - 0s 64ms/step\n",
            "6/6 [==============================] - 0s 65ms/step\n",
            "5/5 [==============================] - 1s 343ms/step\n",
            "7/7 [==============================] - 0s 65ms/step\n",
            "4/4 [==============================] - 0s 63ms/step\n",
            "6/6 [==============================] - 0s 65ms/step\n",
            "8/8 [==============================] - 0s 65ms/step\n",
            "6/6 [==============================] - 0s 64ms/step\n",
            "6/6 [==============================] - 0s 71ms/step\n",
            "6/6 [==============================] - 0s 64ms/step\n",
            "6/6 [==============================] - 0s 65ms/step\n",
            "6/6 [==============================] - 0s 64ms/step\n",
            "6/6 [==============================] - 0s 63ms/step\n",
            "6/6 [==============================] - 0s 63ms/step\n",
            "4/4 [==============================] - 0s 64ms/step\n",
            "6/6 [==============================] - 0s 65ms/step\n",
            "6/6 [==============================] - 0s 65ms/step\n",
            "6/6 [==============================] - 0s 63ms/step\n",
            "6/6 [==============================] - 0s 64ms/step\n",
            "6/6 [==============================] - 0s 64ms/step\n",
            "6/6 [==============================] - 0s 63ms/step\n",
            "5/5 [==============================] - 1s 242ms/step\n",
            "5/5 [==============================] - 0s 64ms/step\n",
            "5/5 [==============================] - 0s 63ms/step\n",
            "6/6 [==============================] - 0s 64ms/step\n",
            "6/6 [==============================] - 0s 65ms/step\n",
            "5/5 [==============================] - 1s 323ms/step\n",
            "8/8 [==============================] - 1s 179ms/step\n",
            "6/6 [==============================] - 0s 64ms/step\n",
            "5/5 [==============================] - 0s 64ms/step\n",
            "8/8 [==============================] - 0s 65ms/step\n",
            "6/6 [==============================] - 0s 64ms/step\n",
            "6/6 [==============================] - 0s 64ms/step\n",
            "5/5 [==============================] - 0s 64ms/step\n",
            "5/5 [==============================] - 0s 64ms/step\n",
            "6/6 [==============================] - 0s 65ms/step\n",
            "5/5 [==============================] - 0s 64ms/step\n",
            "8/8 [==============================] - 1s 195ms/step\n",
            "7/7 [==============================] - 2s 260ms/step\n",
            "8/8 [==============================] - 0s 66ms/step\n",
            "6/6 [==============================] - 0s 64ms/step\n",
            "6/6 [==============================] - 0s 64ms/step\n",
            "6/6 [==============================] - 0s 64ms/step\n",
            "6/6 [==============================] - 0s 64ms/step\n",
            "6/6 [==============================] - 0s 66ms/step\n",
            "6/6 [==============================] - 0s 65ms/step\n",
            "6/6 [==============================] - 0s 65ms/step\n",
            "6/6 [==============================] - 0s 65ms/step\n",
            "6/6 [==============================] - 0s 63ms/step\n",
            "8/8 [==============================] - 0s 66ms/step\n",
            "5/5 [==============================] - 0s 64ms/step\n",
            "6/6 [==============================] - 0s 65ms/step\n",
            "6/6 [==============================] - 0s 64ms/step\n",
            "8/8 [==============================] - 0s 65ms/step\n",
            "5/5 [==============================] - 0s 64ms/step\n",
            "6/6 [==============================] - 0s 65ms/step\n",
            "6/6 [==============================] - 0s 65ms/step\n",
            "6/6 [==============================] - 0s 65ms/step\n",
            "6/6 [==============================] - 0s 66ms/step\n",
            "5/5 [==============================] - 0s 65ms/step\n",
            "6/6 [==============================] - 0s 64ms/step\n",
            "5/5 [==============================] - 0s 64ms/step\n",
            "8/8 [==============================] - 0s 65ms/step\n",
            "5/5 [==============================] - 0s 65ms/step\n",
            "6/6 [==============================] - 0s 65ms/step\n",
            "6/6 [==============================] - 0s 64ms/step\n",
            "6/6 [==============================] - 0s 65ms/step\n",
            "10/10 [==============================] - 2s 172ms/step\n",
            "5/5 [==============================] - 0s 65ms/step\n",
            "5/5 [==============================] - 1s 342ms/step\n",
            "6/6 [==============================] - 0s 64ms/step\n",
            "6/6 [==============================] - 0s 65ms/step\n",
            "8/8 [==============================] - 1s 154ms/step\n",
            "7/7 [==============================] - 0s 67ms/step\n",
            "6/6 [==============================] - 0s 65ms/step\n",
            "6/6 [==============================] - 0s 65ms/step\n",
            "8/8 [==============================] - 0s 66ms/step\n",
            "5/5 [==============================] - 0s 65ms/step\n",
            "7/7 [==============================] - 0s 66ms/step\n",
            "6/6 [==============================] - 0s 65ms/step\n",
            "5/5 [==============================] - 0s 65ms/step\n",
            "8/8 [==============================] - 0s 66ms/step\n",
            "6/6 [==============================] - 0s 65ms/step\n",
            "6/6 [==============================] - 0s 65ms/step\n",
            "6/6 [==============================] - 0s 66ms/step\n",
            "5/5 [==============================] - 0s 65ms/step\n",
            "6/6 [==============================] - 0s 65ms/step\n",
            "11/11 [==============================] - 1s 66ms/step\n",
            "5/5 [==============================] - 0s 65ms/step\n",
            "5/5 [==============================] - 0s 65ms/step\n",
            "6/6 [==============================] - 0s 65ms/step\n"
          ]
        }
      ]
    },
    {
      "cell_type": "code",
      "source": [
        "from sklearn.metrics import accuracy_score\n",
        "\n",
        "print(\"Accuracy : \",accuracy_score(y_pred=predict,y_true=orignal))"
      ],
      "metadata": {
        "colab": {
          "base_uri": "https://localhost:8080/"
        },
        "id": "qppeFeqY9hC0",
        "outputId": "772869de-e245-4bc8-d85b-2a987ea1f7bb"
      },
      "execution_count": 16,
      "outputs": [
        {
          "output_type": "stream",
          "name": "stdout",
          "text": [
            "Accuracy :  0.91\n"
          ]
        }
      ]
    }
  ]
}